{
 "cells": [
  {
   "cell_type": "code",
   "execution_count": 1,
   "id": "9683cb07",
   "metadata": {},
   "outputs": [
    {
     "name": "stdout",
     "output_type": "stream",
     "text": [
      "Hello World\n"
     ]
    }
   ],
   "source": [
    "print (\"Hello World\")"
   ]
  },
  {
   "cell_type": "code",
   "execution_count": 2,
   "id": "d0f55d1c",
   "metadata": {},
   "outputs": [],
   "source": [
    "strMyString = \"You can suck my toes.  \""
   ]
  },
  {
   "cell_type": "code",
   "execution_count": 3,
   "id": "aa7060f4",
   "metadata": {},
   "outputs": [
    {
     "data": {
      "text/plain": [
       "'You can suck my toes.  '"
      ]
     },
     "execution_count": 3,
     "metadata": {},
     "output_type": "execute_result"
    }
   ],
   "source": [
    "strMyString"
   ]
  },
  {
   "cell_type": "code",
   "execution_count": 4,
   "id": "fb972e57",
   "metadata": {},
   "outputs": [],
   "source": [
    "strMystring2 = \"   If you want to\""
   ]
  },
  {
   "cell_type": "code",
   "execution_count": 5,
   "id": "f697ef79",
   "metadata": {},
   "outputs": [],
   "source": [
    "strMyString3 = strMyString + \" \" + strMystring2"
   ]
  },
  {
   "cell_type": "code",
   "execution_count": 6,
   "id": "0804a1cf",
   "metadata": {},
   "outputs": [
    {
     "data": {
      "text/plain": [
       "'You can suck my toes.      If you want to'"
      ]
     },
     "execution_count": 6,
     "metadata": {},
     "output_type": "execute_result"
    }
   ],
   "source": [
    "strMyString3"
   ]
  },
  {
   "cell_type": "code",
   "execution_count": 7,
   "id": "62670312",
   "metadata": {},
   "outputs": [
    {
     "data": {
      "text/plain": [
       "'You can suck my toes.      If you want to'"
      ]
     },
     "execution_count": 7,
     "metadata": {},
     "output_type": "execute_result"
    }
   ],
   "source": [
    "strMyString3"
   ]
  },
  {
   "cell_type": "code",
   "execution_count": null,
   "id": "71bece81",
   "metadata": {},
   "outputs": [],
   "source": []
  }
 ],
 "metadata": {
  "kernelspec": {
   "display_name": "PythonData",
   "language": "python",
   "name": "pythondata"
  },
  "language_info": {
   "codemirror_mode": {
    "name": "ipython",
    "version": 3
   },
   "file_extension": ".py",
   "mimetype": "text/x-python",
   "name": "python",
   "nbconvert_exporter": "python",
   "pygments_lexer": "ipython3",
   "version": "3.7.13"
  }
 },
 "nbformat": 4,
 "nbformat_minor": 5
}
